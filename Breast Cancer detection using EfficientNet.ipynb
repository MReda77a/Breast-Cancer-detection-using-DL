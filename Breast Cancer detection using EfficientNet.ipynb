{
 "cells": [
  {
   "cell_type": "code",
   "execution_count": 1,
   "metadata": {},
   "outputs": [],
   "source": [
    "import cv2 \n",
    "import numpy as np\n",
    "import matplotlib.pyplot as plt\n",
    "import os \n",
    "from random import shuffle\n",
    "from tqdm import tqdm\n",
    "TRAIN_BDIR = 'D:/graduation project/benign'\n",
    "TRAIN_MDIR = 'D:/graduation project/malignant'\n",
    "Test_BDIR = 'D:/graduation project/testb'\n",
    "Test_MDIR = 'D:/graduation project/testm'"
   ]
  },
  {
   "cell_type": "code",
   "execution_count": 2,
   "metadata": {},
   "outputs": [],
   "source": [
    "def create_train_Bdata():\n",
    "    training_data = []\n",
    "    for img in tqdm(os.listdir(TRAIN_BDIR)):\n",
    "        path = os.path.join(TRAIN_BDIR,img)\n",
    "        img = cv2.imread(path)\n",
    "        training_data.append([img,[1,0]])\n",
    "\n",
    "    return training_data"
   ]
  },
  {
   "cell_type": "code",
   "execution_count": 3,
   "metadata": {},
   "outputs": [],
   "source": [
    "def create_train_Mdata():\n",
    "    training_data = []\n",
    "    for img in tqdm(os.listdir(TRAIN_MDIR)):\n",
    "        path = os.path.join(TRAIN_MDIR,img)\n",
    "        img = cv2.imread(path)\n",
    "        training_data.append([img,[0,1]])\n",
    "\n",
    "    return training_data"
   ]
  },
  {
   "cell_type": "code",
   "execution_count": 4,
   "metadata": {},
   "outputs": [],
   "source": [
    "def create_test_Btest():\n",
    "    test_data = []\n",
    "    for img in tqdm(os.listdir(Test_BDIR)):\n",
    "        path = os.path.join(Test_BDIR,img)\n",
    "        img = cv2.imread(path)\n",
    "        test_data.append([img,[1,0]])\n",
    "\n",
    "    return test_data"
   ]
  },
  {
   "cell_type": "code",
   "execution_count": 5,
   "metadata": {},
   "outputs": [],
   "source": [
    "def create_test_Mtest():\n",
    "    test_data = []\n",
    "    for img in tqdm(os.listdir(Test_MDIR)):\n",
    "        path = os.path.join(Test_MDIR,img)\n",
    "        img = cv2.imread(path)\n",
    "        test_data.append([img,[0,1]])\n",
    "\n",
    "    return test_data"
   ]
  },
  {
   "cell_type": "code",
   "execution_count": 6,
   "metadata": {},
   "outputs": [
    {
     "name": "stderr",
     "output_type": "stream",
     "text": [
      "100%|███████████████████████████████████████████████████████████████████████████| 45638/45638 [03:17<00:00, 231.31it/s]\n"
     ]
    }
   ],
   "source": [
    "train_data = create_train_Bdata()"
   ]
  },
  {
   "cell_type": "code",
   "execution_count": 7,
   "metadata": {
    "scrolled": true
   },
   "outputs": [
    {
     "name": "stderr",
     "output_type": "stream",
     "text": [
      "100%|███████████████████████████████████████████████████████████████████████████| 14437/14437 [00:47<00:00, 306.74it/s]\n"
     ]
    }
   ],
   "source": [
    "train_data += create_train_Mdata()"
   ]
  },
  {
   "cell_type": "code",
   "execution_count": 8,
   "metadata": {},
   "outputs": [
    {
     "name": "stderr",
     "output_type": "stream",
     "text": [
      "100%|███████████████████████████████████████████████████████████████████████████| 30508/30508 [02:07<00:00, 239.29it/s]\n"
     ]
    }
   ],
   "source": [
    "test_data = create_test_Btest()"
   ]
  },
  {
   "cell_type": "code",
   "execution_count": 9,
   "metadata": {},
   "outputs": [
    {
     "name": "stderr",
     "output_type": "stream",
     "text": [
      "100%|█████████████████████████████████████████████████████████████████████████████| 9689/9689 [00:39<00:00, 242.45it/s]\n"
     ]
    }
   ],
   "source": [
    "test_data += create_test_Mtest()"
   ]
  },
  {
   "cell_type": "code",
   "execution_count": 10,
   "metadata": {
    "scrolled": true
   },
   "outputs": [
    {
     "data": {
      "text/plain": [
       "60075"
      ]
     },
     "execution_count": 10,
     "metadata": {},
     "output_type": "execute_result"
    }
   ],
   "source": [
    "len(train_data)"
   ]
  },
  {
   "cell_type": "code",
   "execution_count": 11,
   "metadata": {},
   "outputs": [
    {
     "data": {
      "text/plain": [
       "40197"
      ]
     },
     "execution_count": 11,
     "metadata": {},
     "output_type": "execute_result"
    }
   ],
   "source": [
    "len(test_data)"
   ]
  },
  {
   "cell_type": "code",
   "execution_count": 12,
   "metadata": {},
   "outputs": [],
   "source": [
    "#importing other required libraries\n",
    "import numpy as np\n",
    "import pandas as pd\n",
    "from sklearn.utils.multiclass import unique_labels\n",
    "import os\n",
    "import matplotlib.pyplot as plt\n",
    "import matplotlib.image as mpimg\n",
    "import seaborn as sns\n",
    "import itertools\n",
    "from sklearn.model_selection import train_test_split\n",
    "from sklearn.metrics import confusion_matrix\n",
    "from keras import Sequential\n",
    "from keras.preprocessing.image import ImageDataGenerator\n",
    "from keras.optimizers import SGD,Adam\n",
    "from keras.callbacks import ReduceLROnPlateau\n",
    "from keras.layers import Flatten,Dense,BatchNormalization,Activation,Dropout\n",
    "from keras.utils import to_categorical\n",
    "import tensorflow as tf\n",
    "import datetime\n"
   ]
  },
  {
   "cell_type": "code",
   "execution_count": 13,
   "metadata": {},
   "outputs": [],
   "source": [
    "from keras.callbacks import ReduceLROnPlateau\n",
    "lrr= ReduceLROnPlateau(monitor='val_accuracy',   factor=.01,   patience=3,  min_lr=1e-5)"
   ]
  },
  {
   "cell_type": "code",
   "execution_count": 14,
   "metadata": {},
   "outputs": [],
   "source": [
    "from keras_efficientnets import EfficientNetB5"
   ]
  },
  {
   "cell_type": "code",
   "execution_count": 15,
   "metadata": {},
   "outputs": [],
   "source": [
    "for i in range(len(train_data)):\n",
    "    train_data[i][0] = cv2.resize(train_data[i][0],(75,75))\n",
    "#for i in range(len(test_data)):\n",
    "    ##test_data[i][0] = cv2.resize(test_data[i][0],(50,50))\n",
    "    \n",
    "train = train_data[:58000]\n",
    "cv = train_data[58000:]\n",
    "\n",
    "X = np.array([i[0] for i in train])\n",
    "Y = np.array([i[1] for i in train])\n",
    "\n",
    "cv_x = np.array([i[0] for i in cv])\n",
    "cv_y = np.array([i[1] for i in cv])\n",
    "\n",
    "#Xnew = np.array([i[0] for i in test_data])\n"
   ]
  },
  {
   "cell_type": "code",
   "execution_count": 16,
   "metadata": {},
   "outputs": [
    {
     "name": "stdout",
     "output_type": "stream",
     "text": [
      "Model: \"sequential\"\n",
      "_________________________________________________________________\n",
      "Layer (type)                 Output Shape              Param #   \n",
      "=================================================================\n",
      "functional_1 (Functional)    (None, 3, 3, 2048)        28513520  \n",
      "_________________________________________________________________\n",
      "flatten (Flatten)            (None, 18432)             0         \n",
      "=================================================================\n",
      "Total params: 28,513,520\n",
      "Trainable params: 28,340,784\n",
      "Non-trainable params: 172,736\n",
      "_________________________________________________________________\n"
     ]
    }
   ],
   "source": [
    "base_model =EfficientNetB5(include_top=False, weights=\"imagenet\", input_shape=(75,75,3),pooling=None,classes=Y.shape[1])\n",
    "\n",
    "model= Sequential()\n",
    "model.add(base_model) \n",
    "model.add(Flatten()) \n",
    "\n",
    "#Model summary\n",
    "model.summary()"
   ]
  },
  {
   "cell_type": "code",
   "execution_count": 17,
   "metadata": {},
   "outputs": [
    {
     "name": "stdout",
     "output_type": "stream",
     "text": [
      "Model: \"sequential\"\n",
      "_________________________________________________________________\n",
      "Layer (type)                 Output Shape              Param #   \n",
      "=================================================================\n",
      "functional_1 (Functional)    (None, 3, 3, 2048)        28513520  \n",
      "_________________________________________________________________\n",
      "flatten (Flatten)            (None, 18432)             0         \n",
      "_________________________________________________________________\n",
      "dense (Dense)                (None, 1024)              18875392  \n",
      "_________________________________________________________________\n",
      "dense_1 (Dense)              (None, 512)               524800    \n",
      "_________________________________________________________________\n",
      "dense_2 (Dense)              (None, 256)               131328    \n",
      "_________________________________________________________________\n",
      "dense_3 (Dense)              (None, 128)               32896     \n",
      "_________________________________________________________________\n",
      "dense_4 (Dense)              (None, 2)                 258       \n",
      "=================================================================\n",
      "Total params: 48,078,194\n",
      "Trainable params: 47,905,458\n",
      "Non-trainable params: 172,736\n",
      "_________________________________________________________________\n"
     ]
    }
   ],
   "source": [
    "\n",
    "model.add(Dense(1024,activation=('relu'),input_dim=512))\n",
    "model.add(Dense(512,activation=('relu'))) \n",
    "model.add(Dense(256,activation=('relu'))) \n",
    "#model.add(Dropout(.3))\n",
    "model.add(Dense(128,activation=('relu')))\n",
    "#model.add(Dropout(.2))\n",
    "model.add(Dense(2,activation=('softmax'))) \n",
    "\n",
    "#Checking the final model summary\n",
    "model.summary()\n",
    "\n",
    "\n"
   ]
  },
  {
   "cell_type": "code",
   "execution_count": 18,
   "metadata": {},
   "outputs": [],
   "source": [
    "#Defining the parameters\n",
    "batch_size= 100\n",
    "epochs=10\n",
    "learn_rate=.001"
   ]
  },
  {
   "cell_type": "code",
   "execution_count": 19,
   "metadata": {},
   "outputs": [],
   "source": [
    "sgd=SGD(lr=learn_rate,momentum=.9,nesterov=False)"
   ]
  },
  {
   "cell_type": "code",
   "execution_count": 20,
   "metadata": {
    "scrolled": true
   },
   "outputs": [
    {
     "name": "stdout",
     "output_type": "stream",
     "text": [
      "<tensorflow.python.keras.preprocessing.image.ImageDataGenerator object at 0x000002AD44E24E50>\n"
     ]
    }
   ],
   "source": [
    "from keras.preprocessing.image import ImageDataGenerator\n",
    "\n",
    "train_generator = ImageDataGenerator(rotation_range=2, horizontal_flip=True,zoom_range=.1 )\n",
    "\n",
    "val_generator = ImageDataGenerator(rotation_range=2, horizontal_flip=True,zoom_range=.1)\n",
    "print (train_generator)\n",
    "#test_generator = ImageDataGenerator(rotation_range=2, horizontal_flip= True,zoom_range=.1)\n",
    "\n",
    "#Fitting the augmentation defined above to the data\n",
    "train_generator.fit(X)\n",
    "val_generator.fit(cv_x)\n",
    "#test_generator.fit(test_x)"
   ]
  },
  {
   "cell_type": "code",
   "execution_count": 21,
   "metadata": {},
   "outputs": [
    {
     "data": {
      "text/plain": [
       "<matplotlib.image.AxesImage at 0x2ad44e72d30>"
      ]
     },
     "execution_count": 21,
     "metadata": {},
     "output_type": "execute_result"
    },
    {
     "data": {
      "image/png": "[encoded data removed]",
      "text/plain": [
       "<Figure size 432x288 with 1 Axes>"
      ]
     },
     "metadata": {
      "needs_background": "light"
     },
     "output_type": "display_data"
    }
   ],
   "source": [
    "plt.imshow(X[0])"
   ]
  },
  {
   "cell_type": "code",
   "execution_count": 65,
   "metadata": {},
   "outputs": [
    {
     "name": "stdout",
     "output_type": "stream",
     "text": [
      "Epoch 1/10\n",
      "580/580 [==============================]\n",
      "loss: 0.7962 - accuracy: 0.8566 - val_loss: 0.9118 - val_accuracy: 0.6590\n",
      "Epoch 2/10\n",
      "580/580 [==============================]\n",
      "loss: 0.5338 - accuracy: 0.8923 - val_loss: 0.7895 - val_accuracy: 0.7967\n",
      "Epoch 3/10\n",
      "580/580 [==============================]\n",
      "loss: 0.4728 - accuracy: 0.9016 - val_loss: 0.7569 - val_accuracy: 0.8870\n",
      "Epoch 4/10\n",
      "580/580 [==============================]\n",
      "loss: 0.4392 - accuracy: 0.9226 - val_loss: 0.6483 - val_accuracy: 0.8947\n",
      "Epoch 5/10\n",
      "580/580 [==============================]\n",
      "loss: 0.3373  - accuracy: 0.9306 - val_loss: 0.5823 - val_accuracy: 0.8989\n",
      "Epoch 6/10\n",
      "580/580 [==============================]\n",
      "loss: 0.3313 - accuracy: 0.9456 - val_loss: 0.5652 - val_accuracy: 0.9021\n",
      "Epoch 7/10\n",
      "580/580 [==============================]\n",
      "loss: 0.2860 - accuracy: 0.9498 - val_loss: 0.5426 - val_accuracy: 0.9044\n",
      "Epoch 8/10\n",
      "580/580 [==============================]\n",
      "loss: 0.2723 - accuracy: 0.9623- val_loss: 0.5265 - val_accuracy: 0.9081\n",
      "Epoch 9/10\n",
      "580/580 [==============================]\n",
      "loss: 0.2656 - accuracy: 0.9742 - val_loss: 0.5116 - val_accuracy: 0.9110\n",
      "Epoch 10/10\n",
      "580/580 [==============================]\n",
      "loss: 0.2561 - accuracy: 0.9759 - val_loss: 0.5078 - val_accuracy: 0.9144\n"
     ]
    }
   ],
   "source": [
    "#Compiling the model\n",
    "model.compile(optimizer=sgd,loss='categorical_crossentropy',metrics=['accuracy'])\n",
    "\n",
    "log_dir = \"logs/fit/\" + datetime.datetime.now().strftime(\"%Y%m%d-%H%M%S\")\n",
    "tensorboard_callback = tf.keras.callbacks.TensorBoard(log_dir=log_dir, histogram_freq=1)\n",
    "\n",
    "#Training the model\n",
    "model.fit(train_generator.flow(X, Y, batch_size = batch_size), epochs = epochs, steps_per_epoch = X.shape[0]//batch_size, validation_data = val_generator.flow(cv_x, cv_y, batch_size = batch_size), validation_steps = 200,  callbacks = [tensorboard_callback], verbose = 1)"
   ]
  },
  {
   "cell_type": "code",
   "execution_count": 23,
   "metadata": {},
   "outputs": [],
   "source": [
    "from keras.applications.vgg16 import preprocess_input\n",
    "from keras.preprocessing import image"
   ]
  },
  {
   "cell_type": "code",
   "execution_count": 82,
   "metadata": {},
   "outputs": [],
   "source": [
    "img=image.load_img('C:/Users/Mohamed Reda/Desktop/model/9291_idx5_x2301_y951_class1.png',target_size=(75,75))"
   ]
  },
  {
   "cell_type": "code",
   "execution_count": 83,
   "metadata": {},
   "outputs": [],
   "source": [
    "ims=np.asarray(img).astype(np.float32)\n",
    "ims = ims.reshape(-1, 75, 75, 3)"
   ]
  },
  {
   "cell_type": "code",
   "execution_count": 84,
   "metadata": {},
   "outputs": [
    {
     "data": {
      "text/plain": [
       "array([[0.35360244, 0.6463976 ]], dtype=float32)"
      ]
     },
     "execution_count": 84,
     "metadata": {},
     "output_type": "execute_result"
    }
   ],
   "source": [
    "ynew = model.predict(ims)\n",
    "ynew"
   ]
  },
  {
   "cell_type": "code",
   "execution_count": 85,
   "metadata": {},
   "outputs": [
    {
     "name": "stdout",
     "output_type": "stream",
     "text": [
      "Affected\n"
     ]
    }
   ],
   "source": [
    "if ynew[0][0] > ynew[0][1]:\n",
    "    print(\"Normal\")\n",
    "else:\n",
    "    print(\"Affected\")"
   ]
  },
  {
   "cell_type": "code",
   "execution_count": 21,
   "metadata": {
    "collapsed": true
   },
   "outputs": [
    {
     "ename": "NameError",
     "evalue": "name 'Xnew' is not defined",
     "output_type": "error",
     "traceback": [
      "\u001b[1;31m---------------------------------------------------------------------------\u001b[0m",
      "\u001b[1;31mNameError\u001b[0m                                 Traceback (most recent call last)",
      "\u001b[1;32m<ipython-input-21-55e0475d42e4>\u001b[0m in \u001b[0;36m<module>\u001b[1;34m\u001b[0m\n\u001b[1;32m----> 1\u001b[1;33m \u001b[0mXnew\u001b[0m \u001b[1;33m=\u001b[0m \u001b[0mnp\u001b[0m\u001b[1;33m.\u001b[0m\u001b[0masarray\u001b[0m\u001b[1;33m(\u001b[0m\u001b[0mXnew\u001b[0m\u001b[1;33m)\u001b[0m\u001b[1;33m.\u001b[0m\u001b[0mastype\u001b[0m\u001b[1;33m(\u001b[0m\u001b[0mnp\u001b[0m\u001b[1;33m.\u001b[0m\u001b[0mfloat32\u001b[0m\u001b[1;33m)\u001b[0m\u001b[1;33m\u001b[0m\u001b[1;33m\u001b[0m\u001b[0m\n\u001b[0m",
      "\u001b[1;31mNameError\u001b[0m: name 'Xnew' is not defined"
     ]
    }
   ],
   "source": [
    "Xnew = np.asarray(Xnew).astype(np.float32)"
   ]
  },
  {
   "cell_type": "code",
   "execution_count": null,
   "metadata": {},
   "outputs": [],
   "source": [
    "for i in range(len(Xnew)):\n",
    "\tprint(\"X=%s, Predicted=%s\" % (Xnew[i], ynew[i]))"
   ]
  },
  {
   "cell_type": "code",
   "execution_count": null,
   "metadata": {},
   "outputs": [],
   "source": []
  }
 ],
 "metadata": {
  "kernelspec": {
   "display_name": "Python 3",
   "language": "python",
   "name": "python3"
  },
  "language_info": {
   "codemirror_mode": {
    "name": "ipython",
    "version": 3
   },
   "file_extension": ".py",
   "mimetype": "text/x-python",
   "name": "python",
   "nbconvert_exporter": "python",
   "pygments_lexer": "ipython3",
   "version": "3.8.3"
  }
 },
 "nbformat": 4,
 "nbformat_minor": 2
}
